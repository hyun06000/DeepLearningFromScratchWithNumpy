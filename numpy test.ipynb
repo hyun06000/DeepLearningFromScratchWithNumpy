{
 "cells": [
  {
   "cell_type": "code",
   "execution_count": 1,
   "metadata": {},
   "outputs": [],
   "source": [
    "import numpy as np"
   ]
  },
  {
   "cell_type": "code",
   "execution_count": 2,
   "metadata": {},
   "outputs": [
    {
     "name": "stdout",
     "output_type": "stream",
     "text": [
      "[[146. 152.]\n",
      " [157. 164.]\n",
      " [168. 176.]\n",
      " [179. 188.]]\n",
      "[[146. 152.]\n",
      " [157. 164.]\n",
      " [168. 176.]\n",
      " [179. 188.]]\n",
      "[11. 12.]\n",
      "[21. 22.]\n",
      "[31. 32.]\n",
      "[63. 66.]\n",
      "[63. 66.]\n"
     ]
    }
   ],
   "source": [
    "x = np.array([[1,2,3,4],\n",
    "              [2,2,2,2],\n",
    "              [3,3,3,3]],dtype=np.float32)\n",
    "\n",
    "d = np.array([[11,12],\n",
    "              [21,22],\n",
    "              [31,32]],dtype=np.float32)\n",
    "# for b in range(len(self.X)):\n",
    "m,n=len(d[0]),len(x[0])\n",
    "DCDW = np.zeros((n,m))\n",
    "for b in range(len(x)):\n",
    "    for i in range(m):\n",
    "        for ii in range(n):\n",
    "            DCDW[ii,i] +=x[b,ii]*d[b,i]\n",
    "print(DCDW)\n",
    "\n",
    "DCDW = np.zeros((n,m))\n",
    "for b in range(len(x)):\n",
    "    DCDW += np.outer(x[b,:],d[b,:])\n",
    "print(DCDW)\n",
    "\n",
    "i=0\n",
    "ii=0\n",
    "for i in d:\n",
    "    print(i)\n",
    "    ii += i\n",
    "print(ii)\n",
    "print(np.sum(d,axis=0))"
   ]
  },
  {
   "cell_type": "code",
   "execution_count": 3,
   "metadata": {},
   "outputs": [
    {
     "name": "stdout",
     "output_type": "stream",
     "text": [
      "(5,)\n",
      "[25. 26. 27. 28. 29.]\n",
      "[[[[2. 3. 4. 5. 6.]\n",
      "   [2. 3. 4. 5. 6.]\n",
      "   [2. 3. 4. 5. 6.]\n",
      "   [2. 3. 4. 5. 6.]]\n",
      "\n",
      "  [[2. 3. 4. 5. 6.]\n",
      "   [2. 3. 4. 5. 6.]\n",
      "   [2. 3. 4. 5. 6.]\n",
      "   [2. 3. 4. 5. 6.]]\n",
      "\n",
      "  [[2. 3. 4. 5. 6.]\n",
      "   [2. 3. 4. 5. 6.]\n",
      "   [2. 3. 4. 5. 6.]\n",
      "   [2. 3. 4. 5. 6.]]]\n",
      "\n",
      "\n",
      " [[[2. 3. 4. 5. 6.]\n",
      "   [2. 3. 4. 5. 6.]\n",
      "   [2. 3. 4. 5. 6.]\n",
      "   [2. 3. 4. 5. 6.]]\n",
      "\n",
      "  [[2. 3. 4. 5. 6.]\n",
      "   [2. 3. 4. 5. 6.]\n",
      "   [2. 3. 4. 5. 6.]\n",
      "   [2. 3. 4. 5. 6.]]\n",
      "\n",
      "  [[2. 3. 4. 5. 6.]\n",
      "   [2. 3. 4. 5. 6.]\n",
      "   [2. 3. 4. 5. 6.]\n",
      "   [2. 3. 4. 5. 6.]]]]\n"
     ]
    }
   ],
   "source": [
    "foo = np.ones((2,3,4,5))\n",
    "baz = np.array([1,2,3,4,5])\n",
    "\n",
    "bar = np.sum(foo,axis=(0,1,2))\n",
    "print(bar.shape)\n",
    "print(bar+baz)\n",
    "print(foo+baz)\n"
   ]
  }
 ],
 "metadata": {
  "kernelspec": {
   "display_name": "Python 3",
   "language": "python",
   "name": "python3"
  },
  "language_info": {
   "codemirror_mode": {
    "name": "ipython",
    "version": 3
   },
   "file_extension": ".py",
   "mimetype": "text/x-python",
   "name": "python",
   "nbconvert_exporter": "python",
   "pygments_lexer": "ipython3",
   "version": "3.7.3"
  }
 },
 "nbformat": 4,
 "nbformat_minor": 2
}
