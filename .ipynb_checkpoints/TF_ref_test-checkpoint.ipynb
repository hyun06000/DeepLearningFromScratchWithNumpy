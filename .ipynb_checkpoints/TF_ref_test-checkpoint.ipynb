{
 "cells": [
  {
   "cell_type": "code",
   "execution_count": 1,
   "metadata": {},
   "outputs": [],
   "source": [
    "import tensorflow as tf\n",
    "import numpy as np\n",
    "\n",
    "from Neuron_BASE import Neuron as N"
   ]
  },
  {
   "cell_type": "code",
   "execution_count": 2,
   "metadata": {},
   "outputs": [
    {
     "name": "stdout",
     "output_type": "stream",
     "text": [
      "0.0\n"
     ]
    }
   ],
   "source": [
    "X = np.random.rand(10,5)\n",
    "W = np.random.rand(5,3)\n",
    "B = np.random.rand(3)\n",
    "\n",
    "with tf.Session() as sess:\n",
    "    \n",
    "    x = tf.constant(X)\n",
    "    w = tf.constant(W)\n",
    "    b = tf.constant(B)\n",
    "    \n",
    "    dense = tf.add(tf.matmul(x,w),b)\n",
    "    dense = tf.sigmoid(dense)\n",
    "    dense = dense.eval()\n",
    "    \n",
    "N1 = N(X)\n",
    "N1.self_initializer(W,B)\n",
    "N1.FCN()\n",
    "N1.activation('sigmoid')\n",
    "print(np.sum(dense-N1.PREDIC))"
   ]
  },
  {
   "cell_type": "code",
   "execution_count": 3,
   "metadata": {},
   "outputs": [
    {
     "name": "stdout",
     "output_type": "stream",
     "text": [
      "(10, 10, 28, 4)\n",
      "(10, 10, 28, 4)\n",
      "6.394884621840902e-14\n"
     ]
    }
   ],
   "source": [
    "X = np.random.rand(10,20,30,5)\n",
    "W = np.random.rand(5,2,3,4)\n",
    "B = np.random.rand(4)\n",
    "STRD = (1,2,1,1)\n",
    "\n",
    "\n",
    "with tf.Session() as sess:\n",
    "    \n",
    "    x = tf.constant(X)\n",
    "    w = tf.constant(W)\n",
    "    w = tf.transpose(w,[1,2,0,3])\n",
    "    b = tf.constant(B)\n",
    "    \n",
    "    conv = tf.nn.conv2d(x,w,STRD,'VALID')\n",
    "    conv = conv+b\n",
    "    conv = conv.eval()\n",
    "    \n",
    "N1 = N(X)\n",
    "N1.self_initializer(W,B)\n",
    "N1.convolution(STRD[1:3])\n",
    "print(N1.Z.shape)\n",
    "print(conv.shape)\n",
    "print(np.sum(N1.Z-conv))\n",
    "# print(conv[0][0])\n"
   ]
  },
  {
   "cell_type": "code",
   "execution_count": 4,
   "metadata": {},
   "outputs": [
    {
     "name": "stdout",
     "output_type": "stream",
     "text": [
      "[0.83591699 0.37015295 1.61547547 2.0154305 ]\n",
      "[0.83591699 0.37015295 1.61547547 2.0154305 ]\n",
      "0.0\n"
     ]
    }
   ],
   "source": [
    "X = np.random.rand(10,2,3,5)\n",
    "W = np.random.rand(5,6,7,4)\n",
    "B = np.random.rand(4)\n",
    "STRD = (1,2,2,1)\n",
    "\n",
    "\n",
    "with tf.Session() as sess:\n",
    "    \n",
    "    x = tf.constant(X)\n",
    "    w = tf.constant(W)\n",
    "    w = tf.transpose(w,[1,2,3,0])\n",
    "    b = tf.constant(B)\n",
    "    \n",
    "    conv = tf.nn.conv2d_transpose(x,w,[10,8,11,4],STRD,'VALID')\n",
    "    conv = conv+b\n",
    "    conv = conv.eval()\n",
    "    \n",
    "N1 = N(X)\n",
    "N1.self_initializer(W,B)\n",
    "N1.convolution_transpose(STRD[1:3])\n",
    "print(N1.Z[0][0][0])#.shape)\n",
    "print(conv[0][0][0])#.shape)\n",
    "print(np.sum(N1.Z-conv))\n"
   ]
  },
  {
   "cell_type": "code",
   "execution_count": 5,
   "metadata": {},
   "outputs": [
    {
     "name": "stdout",
     "output_type": "stream",
     "text": [
      "1.0539084672927856\n",
      "3.148377366067235\n"
     ]
    }
   ],
   "source": [
    "X = np.random.rand(10,5)\n",
    "W = np.random.rand(5,3)\n",
    "B = np.random.rand(3)\n",
    "Y = np.random.rand(10,3)\n",
    "\n",
    "with tf.Session() as sess:\n",
    "    \n",
    "    x = tf.constant(X)\n",
    "    w = tf.constant(W)\n",
    "    b = tf.constant(B)\n",
    "    y = tf.constant(Y)\n",
    "    \n",
    "    dense = tf.add(tf.matmul(x,w),b)\n",
    "    dense = tf.sigmoid(dense)\n",
    "    \n",
    "    loss = tf.losses.sigmoid_cross_entropy(y,dense)\n",
    "    print(loss.eval())\n",
    "    \n",
    "N1 = N(X)\n",
    "N1.self_initializer(W,B)\n",
    "N1.FCN()\n",
    "N1.activation('sigmoid')\n",
    "N1.label(Y)\n",
    "c = N1.cost('sigmoid_cross_entropy')\n",
    "print(c)"
   ]
  },
  {
   "cell_type": "code",
   "execution_count": null,
   "metadata": {},
   "outputs": [],
   "source": []
  }
 ],
 "metadata": {
  "kernelspec": {
   "display_name": "tensorflow",
   "language": "python",
   "name": "tensorflow"
  },
  "language_info": {
   "codemirror_mode": {
    "name": "ipython",
    "version": 3
   },
   "file_extension": ".py",
   "mimetype": "text/x-python",
   "name": "python",
   "nbconvert_exporter": "python",
   "pygments_lexer": "ipython3",
   "version": "3.6.6"
  }
 },
 "nbformat": 4,
 "nbformat_minor": 2
}
