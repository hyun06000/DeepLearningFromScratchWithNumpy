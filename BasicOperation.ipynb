{
 "cells": [
  {
   "cell_type": "markdown",
   "metadata": {},
   "source": [
    "[Basic Operation in Deep Learning]\n",
    "============================\n",
    "\n",
    "# with Only Numpy\n",
    "\n",
    "MNIST"
   ]
  },
  {
   "cell_type": "code",
   "execution_count": 1,
   "metadata": {},
   "outputs": [
    {
     "name": "stdout",
     "output_type": "stream",
     "text": [
      "WARNING:tensorflow:From <ipython-input-1-fd01f4e38903>:3: read_data_sets (from tensorflow.contrib.learn.python.learn.datasets.mnist) is deprecated and will be removed in a future version.\n",
      "Instructions for updating:\n",
      "Please use alternatives such as official/mnist/dataset.py from tensorflow/models.\n",
      "WARNING:tensorflow:From /home/psh/anaconda3/envs/tensorflow/lib/python3.6/site-packages/tensorflow/contrib/learn/python/learn/datasets/mnist.py:260: maybe_download (from tensorflow.contrib.learn.python.learn.datasets.base) is deprecated and will be removed in a future version.\n",
      "Instructions for updating:\n",
      "Please write your own downloading logic.\n",
      "WARNING:tensorflow:From /home/psh/anaconda3/envs/tensorflow/lib/python3.6/site-packages/tensorflow/contrib/learn/python/learn/datasets/mnist.py:262: extract_images (from tensorflow.contrib.learn.python.learn.datasets.mnist) is deprecated and will be removed in a future version.\n",
      "Instructions for updating:\n",
      "Please use tf.data to implement this functionality.\n",
      "Extracting MNIST_data/train-images-idx3-ubyte.gz\n",
      "WARNING:tensorflow:From /home/psh/anaconda3/envs/tensorflow/lib/python3.6/site-packages/tensorflow/contrib/learn/python/learn/datasets/mnist.py:267: extract_labels (from tensorflow.contrib.learn.python.learn.datasets.mnist) is deprecated and will be removed in a future version.\n",
      "Instructions for updating:\n",
      "Please use tf.data to implement this functionality.\n",
      "Extracting MNIST_data/train-labels-idx1-ubyte.gz\n",
      "Extracting MNIST_data/t10k-images-idx3-ubyte.gz\n",
      "Extracting MNIST_data/t10k-labels-idx1-ubyte.gz\n",
      "WARNING:tensorflow:From /home/psh/anaconda3/envs/tensorflow/lib/python3.6/site-packages/tensorflow/contrib/learn/python/learn/datasets/mnist.py:290: DataSet.__init__ (from tensorflow.contrib.learn.python.learn.datasets.mnist) is deprecated and will be removed in a future version.\n",
      "Instructions for updating:\n",
      "Please use alternatives such as official/mnist/dataset.py from tensorflow/models.\n"
     ]
    }
   ],
   "source": [
    "from tensorflow.examples.tutorials.mnist import input_data\n",
    "import numpy as np\n",
    "mnist = input_data.read_data_sets('MNIST_data', validation_size=0)\n",
    "\n",
    "#==============================================================\n"
   ]
  },
  {
   "cell_type": "code",
   "execution_count": 2,
   "metadata": {},
   "outputs": [],
   "source": [
    "import numpy as np\n",
    "import matplotlib.pyplot as plt\n",
    "import sys\n",
    "from Neuron_BASE import Neuron as N\n",
    "\n"
   ]
  },
  {
   "cell_type": "code",
   "execution_count": 3,
   "metadata": {},
   "outputs": [
    {
     "name": "stdout",
     "output_type": "stream",
     "text": [
      "2.6126082146451957\n"
     ]
    }
   ],
   "source": [
    "x_train,y_train = mnist.train.next_batch(100,shuffle = True)\n",
    "x_test,y_test = mnist.test.next_batch(100,shuffle = True)\n",
    "y_tr=[]\n",
    "for i in y_train:\n",
    "    y_tr.append(np.eye(10)[i])\n",
    "y_tr=np.array(y_tr)\n",
    "\n",
    "y_te=[]\n",
    "for i in y_test:\n",
    "    y_te.append(np.eye(10)[i])\n",
    "y_te=np.array(y_te)\n",
    "\n",
    "N1 = N(x_train/255)\n",
    "N1.initializer([28*28,10])\n",
    "N1.FCN()\n",
    "N1.activation('softmax')\n",
    "\n",
    "N1.label(y_tr)\n",
    "cost = N1.cost('softmax_cross_entropy')\n",
    "print(cost)\n",
    "\n",
    "LR = 0.0001\n",
    "loss1 = []\n",
    "accuracy1=[]\n",
    "for it in range(10000):\n",
    "# while cost>0.000002:\n",
    "    \n",
    "    x_train,y_train = mnist.train.next_batch(100,shuffle = True)\n",
    "    x_test,y_test = mnist.test.next_batch(100,shuffle = True)\n",
    "    y_tr=[]\n",
    "    for i in y_train:\n",
    "        y_tr.append(np.eye(10)[i])\n",
    "    y_tr=np.array(y_tr)\n",
    "\n",
    "    y_te=[]\n",
    "    for i in y_test:\n",
    "        y_te.append(np.eye(10)[i])\n",
    "    y_te=np.array(y_te)\n",
    "\n",
    "    \n",
    "    N1.next_batch(x_train/255)\n",
    "    N1.FCN()\n",
    "    N1.activation('softmax')\n",
    "    \n",
    "    N1.label(y_tr)\n",
    "    cost = N1.cost('softmax_cross_entropy')\n",
    "    \n",
    "    N1.delta()\n",
    "    N1.update(LR)\n",
    "    \n",
    "    N1.next_batch(x_test/255)\n",
    "    N1.FCN()\n",
    "    N1.activation('softmax')\n",
    "    \n",
    "    loss1.append(cost)\n",
    "    acc = 0\n",
    "    for i in range(100):\n",
    "        if np.argmax(y_te[i]) == np.argmax(N1.PREDIC[i]):\n",
    "            acc += 1\n",
    "    accuracy1.append(acc)\n",
    "    "
   ]
  },
  {
   "cell_type": "code",
   "execution_count": 4,
   "metadata": {},
   "outputs": [
    {
     "name": "stdout",
     "output_type": "stream",
     "text": [
      "2.753759018677889\n"
     ]
    }
   ],
   "source": [
    "x_train,y_train = mnist.train.next_batch(100,shuffle = True)\n",
    "x_test,y_test = mnist.test.next_batch(100,shuffle = True)\n",
    "y_tr=[]\n",
    "for i in y_train:\n",
    "    y_tr.append(np.eye(10)[i])\n",
    "y_tr=np.array(y_tr)\n",
    "\n",
    "y_te=[]\n",
    "for i in y_test:\n",
    "    y_te.append(np.eye(10)[i])\n",
    "y_te=np.array(y_te)\n",
    "\n",
    "N1 = N(x_train/255)\n",
    "N1.initializer([28*28,10])\n",
    "N1.FCN()\n",
    "N1.activation('softmax')\n",
    "\n",
    "N1.label(y_tr)\n",
    "cost = N1.cost('softmax_cross_entropy')\n",
    "print(cost)\n",
    "\n",
    "# LR = 0.01\n",
    "loss2 = []\n",
    "accuracy2=[]\n",
    "for it in range(10000):\n",
    "# while cost>0.000002:\n",
    "    \n",
    "    x_train,y_train = mnist.train.next_batch(100,shuffle = True)\n",
    "    x_test,y_test = mnist.test.next_batch(100,shuffle = True)\n",
    "    y_tr=[]\n",
    "    for i in y_train:\n",
    "        y_tr.append(np.eye(10)[i])\n",
    "    y_tr=np.array(y_tr)\n",
    "\n",
    "    y_te=[]\n",
    "    for i in y_test:\n",
    "        y_te.append(np.eye(10)[i])\n",
    "    y_te=np.array(y_te)\n",
    "\n",
    "    \n",
    "    N1.next_batch(x_train/255)\n",
    "    N1.FCN()\n",
    "    N1.activation('softmax')\n",
    "    \n",
    "    N1.label(y_tr)\n",
    "    cost = N1.cost('softmax_cross_entropy')\n",
    "    \n",
    "    N1.delta()\n",
    "    N1.Momentum(LR)\n",
    "    \n",
    "    N1.next_batch(x_test/255)\n",
    "    N1.FCN()\n",
    "    N1.activation('softmax')\n",
    "    \n",
    "    loss2.append(cost)\n",
    "    acc = 0\n",
    "    for i in range(100):\n",
    "        if np.argmax(y_te[i]) == np.argmax(N1.PREDIC[i]):\n",
    "            acc += 1\n",
    "    accuracy2.append(acc)\n",
    "    "
   ]
  },
  {
   "cell_type": "code",
   "execution_count": 5,
   "metadata": {},
   "outputs": [
    {
     "name": "stdout",
     "output_type": "stream",
     "text": [
      "2.7970944873205634\n"
     ]
    }
   ],
   "source": [
    "x_train,y_train = mnist.train.next_batch(100,shuffle = True)\n",
    "x_test,y_test = mnist.test.next_batch(100,shuffle = True)\n",
    "y_tr=[]\n",
    "for i in y_train:\n",
    "    y_tr.append(np.eye(10)[i])\n",
    "y_tr=np.array(y_tr)\n",
    "\n",
    "y_te=[]\n",
    "for i in y_test:\n",
    "    y_te.append(np.eye(10)[i])\n",
    "y_te=np.array(y_te)\n",
    "\n",
    "N1 = N(x_train/255)\n",
    "N1.initializer([28*28,10])\n",
    "N1.FCN()\n",
    "N1.activation('softmax')\n",
    "\n",
    "N1.label(y_tr)\n",
    "cost = N1.cost('softmax_cross_entropy')\n",
    "print(cost)\n",
    "\n",
    "# LR = 0.01\n",
    "loss3 = []\n",
    "accuracy3=[]\n",
    "for it in range(10000):\n",
    "# while cost>0.000002:\n",
    "    \n",
    "    x_train,y_train = mnist.train.next_batch(100,shuffle = True)\n",
    "    x_test,y_test = mnist.test.next_batch(100,shuffle = True)\n",
    "    y_tr=[]\n",
    "    for i in y_train:\n",
    "        y_tr.append(np.eye(10)[i])\n",
    "    y_tr=np.array(y_tr)\n",
    "\n",
    "    y_te=[]\n",
    "    for i in y_test:\n",
    "        y_te.append(np.eye(10)[i])\n",
    "    y_te=np.array(y_te)\n",
    "\n",
    "    \n",
    "    N1.next_batch(x_train/255)\n",
    "    N1.FCN()\n",
    "    N1.activation('softmax')\n",
    "    \n",
    "    N1.label(y_tr)\n",
    "    cost = N1.cost('softmax_cross_entropy')\n",
    "    \n",
    "    N1.delta()\n",
    "    N1.Adam(LR)\n",
    "    \n",
    "    N1.next_batch(x_test/255)\n",
    "    N1.FCN()\n",
    "    N1.activation('softmax')\n",
    "    \n",
    "    loss3.append(cost)\n",
    "    acc = 0\n",
    "    for i in range(100):\n",
    "        if np.argmax(y_te[i]) == np.argmax(N1.PREDIC[i]):\n",
    "            acc += 1\n",
    "    accuracy3.append(acc)\n",
    "    "
   ]
  },
  {
   "cell_type": "code",
   "execution_count": 6,
   "metadata": {},
   "outputs": [
    {
     "name": "stdout",
     "output_type": "stream",
     "text": [
      "2.6988490743016826\n"
     ]
    }
   ],
   "source": [
    "x_train,y_train = mnist.train.next_batch(100,shuffle = True)\n",
    "x_test,y_test = mnist.test.next_batch(100,shuffle = True)\n",
    "y_tr=[]\n",
    "for i in y_train:\n",
    "    y_tr.append(np.eye(10)[i])\n",
    "y_tr=np.array(y_tr)\n",
    "\n",
    "y_te=[]\n",
    "for i in y_test:\n",
    "    y_te.append(np.eye(10)[i])\n",
    "y_te=np.array(y_te)\n",
    "\n",
    "N1 = N(x_train/255)\n",
    "N1.initializer([28*28,10])\n",
    "N1.FCN()\n",
    "N1.activation('softmax')\n",
    "\n",
    "N1.label(y_tr)\n",
    "cost = N1.cost('softmax_cross_entropy')\n",
    "print(cost)\n",
    "\n",
    "# LR = 0.0001\n",
    "loss4 = []\n",
    "accuracy4=[]\n",
    "for it in range(10000):\n",
    "# while cost>0.000002:\n",
    "    \n",
    "    x_train,y_train = mnist.train.next_batch(100,shuffle = True)\n",
    "    x_test,y_test = mnist.test.next_batch(100,shuffle = True)\n",
    "    y_tr=[]\n",
    "    for i in y_train:\n",
    "        y_tr.append(np.eye(10)[i])\n",
    "    y_tr=np.array(y_tr)\n",
    "\n",
    "    y_te=[]\n",
    "    for i in y_test:\n",
    "        y_te.append(np.eye(10)[i])\n",
    "    y_te=np.array(y_te)\n",
    "\n",
    "    \n",
    "    N1.next_batch(x_train/255)\n",
    "    N1.FCN()\n",
    "    N1.activation('softmax')\n",
    "    \n",
    "    N1.label(y_tr)\n",
    "    cost = N1.cost('softmax_cross_entropy')\n",
    "    \n",
    "    N1.delta()\n",
    "    N1.Gravity(LR)\n",
    "    \n",
    "    N1.next_batch(x_test/255)\n",
    "    N1.FCN()\n",
    "    N1.activation('softmax')\n",
    "    \n",
    "    loss4.append(cost)\n",
    "    acc = 0\n",
    "    for i in range(100):\n",
    "        if np.argmax(y_te[i]) == np.argmax(N1.PREDIC[i]):\n",
    "            acc += 1\n",
    "    accuracy4.append(acc)\n",
    "    "
   ]
  },
  {
   "cell_type": "code",
   "execution_count": 7,
   "metadata": {},
   "outputs": [
    {
     "data": {
      "image/png": "[encoded data removed]",
      "text/plain": [
       "<Figure size 432x288 with 1 Axes>"
      ]
     },
     "metadata": {
      "needs_background": "light"
     },
     "output_type": "display_data"
    },
    {
     "data": {
      "image/png": "[encoded data removed]",
      "text/plain": [
       "<Figure size 432x288 with 1 Axes>"
      ]
     },
     "metadata": {
      "needs_background": "light"
     },
     "output_type": "display_data"
    }
   ],
   "source": [
    "plt.plot(loss1,'r')\n",
    "plt.plot(loss2,'b')\n",
    "plt.plot(loss3,'m')\n",
    "plt.plot(loss4,'g')\n",
    "plt.show()\n",
    "plt.plot(accuracy1,'r')\n",
    "plt.plot(accuracy2,'b')\n",
    "plt.plot(accuracy3,'m')\n",
    "plt.plot(accuracy4,'g')\n",
    "plt.show()"
   ]
  }
 ],
 "metadata": {
  "kernelspec": {
   "display_name": "Python 3",
   "language": "python",
   "name": "python3"
  },
  "language_info": {
   "codemirror_mode": {
    "name": "ipython",
    "version": 3
   },
   "file_extension": ".py",
   "mimetype": "text/x-python",
   "name": "python",
   "nbconvert_exporter": "python",
   "pygments_lexer": "ipython3",
   "version": "3.7.3"
  }
 },
 "nbformat": 4,
 "nbformat_minor": 2
}
